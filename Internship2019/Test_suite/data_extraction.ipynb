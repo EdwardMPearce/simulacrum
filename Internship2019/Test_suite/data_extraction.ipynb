{
 "cells": [
  {
   "cell_type": "markdown",
   "metadata": {},
   "source": [
    "# Introduction"
   ]
  },
  {
   "cell_type": "markdown",
   "metadata": {},
   "source": [
    "This interactive Jupyter Notebook aims to shed light on the development process behind the following functions within the `queries` package, as well as to serve as additional documentation on their usage: \n",
    "* `get_cols_query` - returns an SQL query to get the column names of a table in a database\n",
    "* `make_AV2017_pop_query` - returns an SQL query to construct a table of tumour data from the AV2017 snapshot    \n",
    "* `make_totals_query` - returns an SQL query to get counts of values in a list of columns\n",
    "* `all_counts_query` - returns an SQL query to get linked value counts from a list of columns in a pair of datasets.\n",
    "\n",
    "The primary goal of these functions is to produce SQL code which constructs a table of value counts by field over two tables of data which share common data fields and categorical values, in order to compare the two tables. The latter two functions acheive this goal, whilst the former two functions are used in constructing one of the data tables for our use-case."
   ]
  },
  {
   "cell_type": "markdown",
   "metadata": {},
   "source": [
    "# Setup: Connecting to an SQL database with Python"
   ]
  },
  {
   "cell_type": "code",
   "execution_count": null,
   "metadata": {},
   "outputs": [],
   "source": [
    "import pandas as pd\n",
    "import getpass\n",
    "\n",
    "from database import connect\n",
    "import queries"
   ]
  },
  {
   "cell_type": "code",
   "execution_count": null,
   "metadata": {},
   "outputs": [],
   "source": [
    "# Log into the database\n",
    "db = connect(input('username:'), getpass.getpass('password:'))"
   ]
  },
  {
   "cell_type": "markdown",
   "metadata": {},
   "source": [
    "# Extract relevant column names for constructing queries\n",
    "First we get a list of column names from the simulated and real tumour tables. By requiring the number of distinct entries in the columns we select to be fewer than 100,000 we exclude index columns whilst retaining columns containing dates. This limit would need updating as timescales increase."
   ]
  },
  {
   "cell_type": "code",
   "execution_count": null,
   "metadata": {},
   "outputs": [],
   "source": [
    "col_condition = 'num_distinct < 100000'\n",
    "\n",
    "col_names_sim = pd.read_sql_query(queries.get_cols_query('ANALYSISPAULCLARKE', 'SIM_AV_TUMOUR_FINAL', col_condition),\n",
    "                                  db)['column_name']\n",
    "\n",
    "col_names_av2017 = pd.read_sql_query(queries.get_cols_query('AV2017', 'AT_TUMOUR_ENGLAND', col_condition),\n",
    "                                     db)['column_name']\n",
    "\n",
    "col_names_av2017_exp = pd.read_sql_query(queries.get_cols_query('AV2017', 'AT_TUMOUR_EXPERIMENTAL_ENGLAND', col_condition),\n",
    "                                         db)['column_name']"
   ]
  },
  {
   "cell_type": "markdown",
   "metadata": {},
   "source": [
    "For each column in the simulated table, we want to find the corresponding table of real data which has that column in order to make comparisons.\n",
    "\n",
    "At the time of writing, 21 out of the 31 column names in `SIM_AV_TUMOUR` are present in `AV2015.AV_TUMOUR`, which increases to 25 out of 31 in `AV2017.AT_TUMOUR_ENGLAND` with the addition of 4 Gleason grade columns (prostate cancer). "
   ]
  },
  {
   "cell_type": "code",
   "execution_count": null,
   "metadata": {},
   "outputs": [],
   "source": [
    "sim_cols_in_av2017 = col_names_sim.loc[col_names_sim.isin(col_names_av2017)]"
   ]
  },
  {
   "cell_type": "markdown",
   "metadata": {},
   "source": [
    "An additional 5 columns, namely `['CANCERCAREPLANINTENT','PERFORMANCESTATUS','CNS','ACE27','DATE_FIRST_SURGERY']`, are covered by joining data from `AV2017.AT_TUMOUR_EXPERIMENTAL_ENGLAND` (along the `TUMOURID` column), bringing coverage up to 30 out of 31 simulated columns.\n",
    "\n",
    "The column `GRADE` is present in both `AV2017.AT_TUMOUR_ENGLAND` and `AV2017.AT_TUMOUR_EXPERIMENTAL_ENGLAND`, and we specifically compare to `AV2017.AT_TUMOUR_ENGLAND.GRADE` since this was the column used in the original training dataset."
   ]
  },
  {
   "cell_type": "code",
   "execution_count": null,
   "metadata": {},
   "outputs": [],
   "source": [
    "sim_cols_in_av2017_exp = col_names_sim.loc[col_names_sim.isin(\n",
    "    col_names_av2017_exp) & (col_names_sim != 'GRADE')]"
   ]
  },
  {
   "cell_type": "markdown",
   "metadata": {},
   "source": [
    "Finally, the column `QUINTILE_2015` is obtained from the Index of Multiple Deprivation table `IMD.ID2015`  (by joining along area code `LSOA11_CODE`). "
   ]
  },
  {
   "cell_type": "code",
   "execution_count": null,
   "metadata": {},
   "outputs": [],
   "source": [
    "at_tumour_subq_cols = 'TUMOURID, LSOA11_CODE'\n",
    "at_tumour_exp_subq_cols = 'TUMOURID'\n",
    "all_cols_real = 'multi_depr_index.QUINTILE_2015'\n",
    "\n",
    "for col_name in sim_cols_in_av2017:\n",
    "    at_tumour_subq_cols += ', {}'.format(col_name)\n",
    "    all_cols_real += ', at_tumour.{}'.format(col_name)\n",
    "\n",
    "for col_name in sim_cols_in_av2017_exp:\n",
    "    at_tumour_exp_subq_cols += ', {}'.format(col_name)\n",
    "    all_cols_real += ', at_tumour_exp.{}'.format(col_name)"
   ]
  },
  {
   "cell_type": "code",
   "execution_count": null,
   "metadata": {},
   "outputs": [],
   "source": [
    "print('Non-index columns in simulated table: \\n', col_names_sim.to_list(), '\\n')\n",
    "print('Relevant column names in AV2017.AT_TUMOUR_ENGLAND: \\n',\n",
    "      at_tumour_subq_cols, '\\n')\n",
    "print('Relevant column names in AV2017.AT_TUMOUR_EXPERIMENTAL_ENGLAND: \\n',\n",
    "      at_tumour_exp_subq_cols, '\\n')\n",
    "print('Fields to be drawn from joined table of real data: \\n', all_cols_real)"
   ]
  },
  {
   "cell_type": "markdown",
   "metadata": {},
   "source": [
    "# Construct tables of real and simulated data\n",
    "Here we construct the SQL queries to build the tables of real and simulated data, using the lists of column names from the previous section. Constructing the table of real data has now been hard coded into the function `queries.make_AV2017_pop_query`."
   ]
  },
  {
   "cell_type": "code",
   "execution_count": null,
   "metadata": {},
   "outputs": [],
   "source": [
    "sql_sim_pop = '''SELECT * FROM analysispaulclarke.sim_av_tumour_final'''\n",
    "\n",
    "# sql_real_pop = queries.make_AV2017_pop_query()\n",
    "sql_real_pop = '''SELECT {all_cols} FROM\n",
    "(SELECT {at_tumour_cols} FROM AV2017.AT_TUMOUR_ENGLAND WHERE (diagnosisdatebest BETWEEN '01-JAN-2013' AND '31-DEC-2015') \n",
    "AND STATUSOFREGISTRATION = 'F' AND CTRY_CODE = 'E' AND DEDUP_FLAG = 1) at_tumour\n",
    "LEFT JOIN \n",
    "(SELECT {at_tumour_exp_cols} \n",
    "FROM AV2017.AT_TUMOUR_EXPERIMENTAL_ENGLAND) at_tumour_exp\n",
    "ON at_tumour.tumourid = at_tumour_exp.tumourid\n",
    "LEFT JOIN IMD.ID2015 multi_depr_index\n",
    "ON at_tumour.LSOA11_CODE = multi_depr_index.LSOA11_CODE\n",
    "'''.replace('\\n', ' ').format(all_cols=all_cols_real,\n",
    "                              at_tumour_cols=at_tumour_subq_cols,\n",
    "                              at_tumour_exp_cols=at_tumour_exp_subq_cols)"
   ]
  },
  {
   "cell_type": "markdown",
   "metadata": {},
   "source": [
    "# Calculate value counts grouped by field for each table\n",
    "Here we make two large SQL queries composed of smaller subqueries which collect category sizes for each category in each column, one for the simulated table and one for the real data."
   ]
  },
  {
   "cell_type": "code",
   "execution_count": null,
   "metadata": {},
   "outputs": [],
   "source": [
    "sql_sim_totals = queries.make_totals_query(sql_sim_pop, col_names_sim, 'sim')\n",
    "sql_real_totals = queries.make_totals_query(\n",
    "    sql_real_pop, col_names_sim, 'real')"
   ]
  },
  {
   "cell_type": "code",
   "execution_count": null,
   "metadata": {
    "cell_style": "center"
   },
   "outputs": [],
   "source": [
    "totals_sim = pd.read_sql_query(sql_sim_totals, db)\n",
    "print(totals_sim.shape)"
   ]
  },
  {
   "cell_type": "code",
   "execution_count": null,
   "metadata": {
    "cell_style": "center"
   },
   "outputs": [],
   "source": [
    "totals_real = pd.read_sql_query(sql_real_totals, db)\n",
    "print(totals_real.shape)"
   ]
  },
  {
   "cell_type": "markdown",
   "metadata": {},
   "source": [
    "# Combine the two tables for easier comparison\n",
    "\n",
    "Now we combine the results into a single table, joining on column name and value whilst accounting for the following special cases:\n",
    "- Matching the counts of `NULL` values in each column\n",
    "- Match `CREG_CODE` values, ignoring the first character, as simulated CREG codes are prefixed with 'L' rather than 'Y'\n",
    "- Match `QUINTILE_2015` values using only the first character (an integer between 1 and 5 (inclusive)), ignoring any descriptive text to avoid issues with upper/lower case\n",
    "- Filling null counts (which could not be matched between tables) with 0\n",
    "\n",
    "Constructing this combined table of value counts has now been refactored into the function `queries.all_counts_query`."
   ]
  },
  {
   "cell_type": "code",
   "execution_count": null,
   "metadata": {},
   "outputs": [],
   "source": [
    "# sql_combined_totals = all_counts_query(sql_sim_pop, sql_real_pop, col_names_sim)\n",
    "sql_combined_totals = '''WITH population_real AS ({real_pop_query}),\n",
    "population_sim AS ({sim_pop_query}),\n",
    "r AS ({real_totals_query}),\n",
    "s AS ({sim_totals_query})\n",
    "SELECT\n",
    "NVL(r.column_name, s.column_name) AS col_name,\n",
    "NVL(r.val, s.val) AS val,\n",
    "NVL(counts_real, 0) AS counts_r,\n",
    "NVL(counts_sim, 0) AS counts_s\n",
    "FROM r FULL OUTER JOIN s\n",
    "ON (r.column_name = s.column_name AND (r.val = s.val OR (r.val IS NULL AND s.val IS NULL)))\n",
    "OR (r.column_name = 'CREG_CODE' AND s.column_name = 'CREG_CODE' AND SUBSTR(r.val, 2) = SUBSTR(s.val, 2))\n",
    "OR (r.column_name = 'QUINTILE_2015' AND s.column_name = 'QUINTILE_2015' AND SUBSTR(r.val, 1, 1) = SUBSTR(s.val, 1, 1))\n",
    "'''.replace('\\n', ' ').format(real_pop_query=sql_real_pop,\n",
    "                              sim_pop_query=sql_sim_pop,\n",
    "                              real_totals_query=queries.make_totals_query(\n",
    "                                  sql_real_pop, col_names_sim, 'real', standalone=False),\n",
    "                              sim_totals_query=queries.make_totals_query(sql_sim_pop, col_names_sim, 'sim', standalone=False))"
   ]
  },
  {
   "cell_type": "code",
   "execution_count": null,
   "metadata": {},
   "outputs": [],
   "source": [
    "totals_comb = pd.read_sql_query(sql_combined_totals, db)\n",
    "print(totals_comb.shape)"
   ]
  },
  {
   "cell_type": "code",
   "execution_count": null,
   "metadata": {},
   "outputs": [],
   "source": [
    "totals_comb.head(20)"
   ]
  },
  {
   "cell_type": "code",
   "execution_count": null,
   "metadata": {},
   "outputs": [],
   "source": []
  }
 ],
 "metadata": {
  "kernelspec": {
   "display_name": "Python 3",
   "language": "python",
   "name": "python3"
  },
  "language_info": {
   "codemirror_mode": {
    "name": "ipython",
    "version": 3
   },
   "file_extension": ".py",
   "mimetype": "text/x-python",
   "name": "python",
   "nbconvert_exporter": "python",
   "pygments_lexer": "ipython3",
   "version": "3.6.8"
  },
  "toc": {
   "base_numbering": 1,
   "nav_menu": {},
   "number_sections": true,
   "sideBar": true,
   "skip_h1_title": false,
   "title_cell": "Table of Contents",
   "title_sidebar": "Contents",
   "toc_cell": false,
   "toc_position": {},
   "toc_section_display": true,
   "toc_window_display": false
  },
  "varInspector": {
   "cols": {
    "lenName": 16,
    "lenType": 16,
    "lenVar": 40
   },
   "kernels_config": {
    "python": {
     "delete_cmd_postfix": "",
     "delete_cmd_prefix": "del ",
     "library": "var_list.py",
     "varRefreshCmd": "print(var_dic_list())"
    },
    "r": {
     "delete_cmd_postfix": ") ",
     "delete_cmd_prefix": "rm(",
     "library": "var_list.r",
     "varRefreshCmd": "cat(var_dic_list()) "
    }
   },
   "position": {
    "height": "226px",
    "left": "1541px",
    "right": "20px",
    "top": "132px",
    "width": "363px"
   },
   "types_to_exclude": [
    "module",
    "function",
    "builtin_function_or_method",
    "instance",
    "_Feature"
   ],
   "window_display": false
  }
 },
 "nbformat": 4,
 "nbformat_minor": 2
}
