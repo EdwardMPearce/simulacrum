{
 "cells": [
  {
   "cell_type": "markdown",
   "metadata": {},
   "source": [
    "# Exploratory Data Analysis with the Simulacrum\n",
    "Here we explore the data structure of the Simulacrum with a view to writing a synthetic data generator in Python according to the methodology described [here][1].<br/>\n",
    "The `bnlearn` package for R presents a possible alternative implementation. Find out more at http://www.bnlearn.com/, where [lecture][2] [slides][3] on the general theory of Bayesian Networks can also be found.\n",
    "\n",
    "[1]: https://simulacrum.healthdatainsight.org.uk/wp/wp-content/uploads/2018/11/Methodology-Overview-Nov18.pdf\n",
    "[2]: http://www.bnlearn.com/about/teaching/slides-bnshort.pdf\n",
    "[3]: http://www.bnlearn.com/about/slides/slides-useRconf13.pdf"
   ]
  },
  {
   "cell_type": "markdown",
   "metadata": {},
   "source": [
    "## Read the data from the .csv file\n",
    "Code to extract the data from database using SQL will also be provided soon."
   ]
  },
  {
   "cell_type": "code",
   "execution_count": 1,
   "metadata": {},
   "outputs": [],
   "source": [
    "from __future__ import print_function\n",
    "import os\n",
    "# Please set the path below as per your system data folder location\n",
    "data_path = ['simulacrum_release_v1.1.0']"
   ]
  },
  {
   "cell_type": "code",
   "execution_count": 2,
   "metadata": {
    "cell_style": "center"
   },
   "outputs": [],
   "source": [
    "import pandas as pd\n",
    "import numpy as np\n",
    "from ipywidgets import interact, interact_manual\n",
    "\n",
    "filepath = os.sep.join(data_path + ['sim_av_tumour.csv'])\n",
    "data = pd.read_csv(filepath, sep=',', dtype=str).fillna('NaN')"
   ]
  },
  {
   "cell_type": "markdown",
   "metadata": {},
   "source": [
    "#### Peek at the data"
   ]
  },
  {
   "cell_type": "code",
   "execution_count": 3,
   "metadata": {
    "cell_style": "center",
    "scrolled": true
   },
   "outputs": [
    {
     "data": {
      "text/plain": [
       "TUMOURID                    object\n",
       "PATIENTID                   object\n",
       "DIAGNOSISDATEBEST           object\n",
       "SITE_ICD10_O2               object\n",
       "SITE_ICD10_O2_3CHAR         object\n",
       "MORPH_ICD10_O2              object\n",
       "BEHAVIOUR_ICD10_O2          object\n",
       "T_BEST                      object\n",
       "N_BEST                      object\n",
       "M_BEST                      object\n",
       "STAGE_BEST                  object\n",
       "STAGE_BEST_SYSTEM           object\n",
       "GRADE                       object\n",
       "AGE                         object\n",
       "SEX                         object\n",
       "CREG_CODE                   object\n",
       "LINKNUMBER                  object\n",
       "SCREENINGSTATUSFULL_CODE    object\n",
       "ER_STATUS                   object\n",
       "ER_SCORE                    object\n",
       "PR_STATUS                   object\n",
       "PR_SCORE                    object\n",
       "HER2_STATUS                 object\n",
       "CANCERCAREPLANINTENT        object\n",
       "PERFORMANCESTATUS           object\n",
       "CNS                         object\n",
       "ACE27                       object\n",
       "GLEASON_PRIMARY             object\n",
       "GLEASON_SECONDARY           object\n",
       "GLEASON_TERTIARY            object\n",
       "GLEASON_COMBINED            object\n",
       "DATE_FIRST_SURGERY          object\n",
       "LATERALITY                  object\n",
       "QUINTILE_2015               object\n",
       "dtype: object"
      ]
     },
     "execution_count": 3,
     "metadata": {},
     "output_type": "execute_result"
    }
   ],
   "source": [
    "data.dtypes"
   ]
  },
  {
   "cell_type": "markdown",
   "metadata": {},
   "source": [
    "Fun with `ipywidgets` and the `interact` user interface. Read the docs [here](https://ipywidgets.readthedocs.io/en/stable/examples/Using%20Interact.html).<br/>\n",
    "Here we examine the unique values appearing in each column of the table and their frequencies, including missing values which are displayed as `'NaN'`."
   ]
  },
  {
   "cell_type": "code",
   "execution_count": 4,
   "metadata": {
    "cell_style": "center"
   },
   "outputs": [
    {
     "data": {
      "application/vnd.jupyter.widget-view+json": {
       "model_id": "d69c41427a264089b5479d9e2e3923ba",
       "version_major": 2,
       "version_minor": 0
      },
      "text/plain": [
       "A Jupyter Widget"
      ]
     },
     "metadata": {},
     "output_type": "display_data"
    }
   ],
   "source": [
    "def view_value_counts(column='BEHAVIOUR_ICD10_O2'):\n",
    "    return data[column].value_counts(dropna=False)\n",
    "\n",
    "interact(view_value_counts, column=list(data.columns));"
   ]
  },
  {
   "cell_type": "markdown",
   "metadata": {},
   "source": [
    "## Split the table records data up into strata defined by the tumour’s cancer site\n",
    "Select the breast cancer stratum from the tumour table using `SITE_ICD10_O2_3CHAR` == 'C50'"
   ]
  },
  {
   "cell_type": "code",
   "execution_count": 5,
   "metadata": {},
   "outputs": [
    {
     "data": {
      "text/html": [
       "<div>\n",
       "<style scoped>\n",
       "    .dataframe tbody tr th:only-of-type {\n",
       "        vertical-align: middle;\n",
       "    }\n",
       "\n",
       "    .dataframe tbody tr th {\n",
       "        vertical-align: top;\n",
       "    }\n",
       "\n",
       "    .dataframe thead th {\n",
       "        text-align: right;\n",
       "    }\n",
       "</style>\n",
       "<table border=\"1\" class=\"dataframe\">\n",
       "  <thead>\n",
       "    <tr style=\"text-align: right;\">\n",
       "      <th></th>\n",
       "      <th>TUMOURID</th>\n",
       "      <th>PATIENTID</th>\n",
       "      <th>DIAGNOSISDATEBEST</th>\n",
       "      <th>SITE_ICD10_O2</th>\n",
       "      <th>SITE_ICD10_O2_3CHAR</th>\n",
       "      <th>MORPH_ICD10_O2</th>\n",
       "      <th>BEHAVIOUR_ICD10_O2</th>\n",
       "      <th>T_BEST</th>\n",
       "      <th>N_BEST</th>\n",
       "      <th>M_BEST</th>\n",
       "      <th>...</th>\n",
       "      <th>PERFORMANCESTATUS</th>\n",
       "      <th>CNS</th>\n",
       "      <th>ACE27</th>\n",
       "      <th>GLEASON_PRIMARY</th>\n",
       "      <th>GLEASON_SECONDARY</th>\n",
       "      <th>GLEASON_TERTIARY</th>\n",
       "      <th>GLEASON_COMBINED</th>\n",
       "      <th>DATE_FIRST_SURGERY</th>\n",
       "      <th>LATERALITY</th>\n",
       "      <th>QUINTILE_2015</th>\n",
       "    </tr>\n",
       "  </thead>\n",
       "  <tbody>\n",
       "    <tr>\n",
       "      <th>330021</th>\n",
       "      <td>10335800</td>\n",
       "      <td>10000724</td>\n",
       "      <td>2013-09-08</td>\n",
       "      <td>C64</td>\n",
       "      <td>C50</td>\n",
       "      <td>8130</td>\n",
       "      <td>3</td>\n",
       "      <td>2</td>\n",
       "      <td>0</td>\n",
       "      <td>0</td>\n",
       "      <td>...</td>\n",
       "      <td>NaN</td>\n",
       "      <td>NaN</td>\n",
       "      <td>NaN</td>\n",
       "      <td>NaN</td>\n",
       "      <td>NaN</td>\n",
       "      <td>NaN</td>\n",
       "      <td>NaN</td>\n",
       "      <td>NaN</td>\n",
       "      <td>R</td>\n",
       "      <td>3</td>\n",
       "    </tr>\n",
       "    <tr>\n",
       "      <th>330026</th>\n",
       "      <td>10335805</td>\n",
       "      <td>10000752</td>\n",
       "      <td>2015-11-11</td>\n",
       "      <td>C504</td>\n",
       "      <td>C50</td>\n",
       "      <td>8140</td>\n",
       "      <td>3</td>\n",
       "      <td>NaN</td>\n",
       "      <td>0</td>\n",
       "      <td>NaN</td>\n",
       "      <td>...</td>\n",
       "      <td>NaN</td>\n",
       "      <td>NaN</td>\n",
       "      <td>NaN</td>\n",
       "      <td>NaN</td>\n",
       "      <td>NaN</td>\n",
       "      <td>NaN</td>\n",
       "      <td>NaN</td>\n",
       "      <td>2016-09-18</td>\n",
       "      <td>L</td>\n",
       "      <td>1 - least deprived</td>\n",
       "    </tr>\n",
       "    <tr>\n",
       "      <th>330043</th>\n",
       "      <td>10335823</td>\n",
       "      <td>10001050</td>\n",
       "      <td>2015-10-24</td>\n",
       "      <td>C343</td>\n",
       "      <td>C50</td>\n",
       "      <td>8130</td>\n",
       "      <td>3</td>\n",
       "      <td>NaN</td>\n",
       "      <td>3</td>\n",
       "      <td>1</td>\n",
       "      <td>...</td>\n",
       "      <td>NaN</td>\n",
       "      <td>NaN</td>\n",
       "      <td>NaN</td>\n",
       "      <td>NaN</td>\n",
       "      <td>NaN</td>\n",
       "      <td>NaN</td>\n",
       "      <td>NaN</td>\n",
       "      <td>2015-12-15</td>\n",
       "      <td>L</td>\n",
       "      <td>4</td>\n",
       "    </tr>\n",
       "    <tr>\n",
       "      <th>330089</th>\n",
       "      <td>10335873</td>\n",
       "      <td>10001750</td>\n",
       "      <td>2014-09-23</td>\n",
       "      <td>C447</td>\n",
       "      <td>C50</td>\n",
       "      <td>8070</td>\n",
       "      <td>3</td>\n",
       "      <td>NaN</td>\n",
       "      <td>NaN</td>\n",
       "      <td>NaN</td>\n",
       "      <td>...</td>\n",
       "      <td>NaN</td>\n",
       "      <td>99</td>\n",
       "      <td>NaN</td>\n",
       "      <td>NaN</td>\n",
       "      <td>NaN</td>\n",
       "      <td>NaN</td>\n",
       "      <td>NaN</td>\n",
       "      <td>2014-09-23</td>\n",
       "      <td>L</td>\n",
       "      <td>1 - least deprived</td>\n",
       "    </tr>\n",
       "    <tr>\n",
       "      <th>330095</th>\n",
       "      <td>10335879</td>\n",
       "      <td>10001824</td>\n",
       "      <td>2015-03-15</td>\n",
       "      <td>C447</td>\n",
       "      <td>C50</td>\n",
       "      <td>8070</td>\n",
       "      <td>3</td>\n",
       "      <td>2b</td>\n",
       "      <td>NaN</td>\n",
       "      <td>0</td>\n",
       "      <td>...</td>\n",
       "      <td>1</td>\n",
       "      <td>NaN</td>\n",
       "      <td>NaN</td>\n",
       "      <td>NaN</td>\n",
       "      <td>NaN</td>\n",
       "      <td>NaN</td>\n",
       "      <td>NaN</td>\n",
       "      <td>2015-03-15</td>\n",
       "      <td>L</td>\n",
       "      <td>4</td>\n",
       "    </tr>\n",
       "  </tbody>\n",
       "</table>\n",
       "<p>5 rows × 34 columns</p>\n",
       "</div>"
      ],
      "text/plain": [
       "        TUMOURID PATIENTID DIAGNOSISDATEBEST SITE_ICD10_O2  \\\n",
       "330021  10335800  10000724        2013-09-08           C64   \n",
       "330026  10335805  10000752        2015-11-11          C504   \n",
       "330043  10335823  10001050        2015-10-24          C343   \n",
       "330089  10335873  10001750        2014-09-23          C447   \n",
       "330095  10335879  10001824        2015-03-15          C447   \n",
       "\n",
       "       SITE_ICD10_O2_3CHAR MORPH_ICD10_O2 BEHAVIOUR_ICD10_O2 T_BEST N_BEST  \\\n",
       "330021                 C50           8130                  3      2      0   \n",
       "330026                 C50           8140                  3    NaN      0   \n",
       "330043                 C50           8130                  3    NaN      3   \n",
       "330089                 C50           8070                  3    NaN    NaN   \n",
       "330095                 C50           8070                  3     2b    NaN   \n",
       "\n",
       "       M_BEST         ...         PERFORMANCESTATUS  CNS ACE27  \\\n",
       "330021      0         ...                       NaN  NaN   NaN   \n",
       "330026    NaN         ...                       NaN  NaN   NaN   \n",
       "330043      1         ...                       NaN  NaN   NaN   \n",
       "330089    NaN         ...                       NaN   99   NaN   \n",
       "330095      0         ...                         1  NaN   NaN   \n",
       "\n",
       "       GLEASON_PRIMARY GLEASON_SECONDARY GLEASON_TERTIARY GLEASON_COMBINED  \\\n",
       "330021             NaN               NaN              NaN              NaN   \n",
       "330026             NaN               NaN              NaN              NaN   \n",
       "330043             NaN               NaN              NaN              NaN   \n",
       "330089             NaN               NaN              NaN              NaN   \n",
       "330095             NaN               NaN              NaN              NaN   \n",
       "\n",
       "       DATE_FIRST_SURGERY LATERALITY       QUINTILE_2015  \n",
       "330021                NaN          R                   3  \n",
       "330026         2016-09-18          L  1 - least deprived  \n",
       "330043         2015-12-15          L                   4  \n",
       "330089         2014-09-23          L  1 - least deprived  \n",
       "330095         2015-03-15          L                   4  \n",
       "\n",
       "[5 rows x 34 columns]"
      ]
     },
     "execution_count": 5,
     "metadata": {},
     "output_type": "execute_result"
    }
   ],
   "source": [
    "data = data.loc[data['SITE_ICD10_O2_3CHAR'] == 'C50', :] # Select the breast cancer stratum from the tumour table\n",
    "\n",
    "# View the first 5 rows in the table after selecting the breast cancer stratum\n",
    "data.head()"
   ]
  },
  {
   "cell_type": "markdown",
   "metadata": {},
   "source": [
    "## Data preprocessing: encode data categories with integer labels\n",
    "We encode the labels in each column as nonnegative integers using scikit-learn's `LabelEncoder` class.<br/>\n",
    "For example, each `SITE_ICD10_O2` cancer site code will be mapped uniquely to a nonnegative integer.<br/>\n",
    "This is necessary in order to compute $\\chi^2$ values using scikit-learn's `chi2` function to assess the correlation between columns."
   ]
  },
  {
   "cell_type": "code",
   "execution_count": 6,
   "metadata": {},
   "outputs": [],
   "source": [
    "from sklearn.preprocessing import LabelEncoder\n",
    "# Select the columns to compare using the chi-squared statistic\n",
    "# In particular we exclude patient ID, tumour ID, and link number\n",
    "comparison_cols = list(data.columns)[2:]\n",
    "comparison_cols.remove('LINKNUMBER')\n",
    "\n",
    "# Keep track of the label encoders for each column in a dictionary\n",
    "label_encoder_dict = {col_name: LabelEncoder().fit(data[col_name]) for col_name in comparison_cols}"
   ]
  },
  {
   "cell_type": "code",
   "execution_count": 7,
   "metadata": {},
   "outputs": [],
   "source": [
    "# Swap out the string labels for their corresponding integer encodings in place within the dataframe\n",
    "# cleaned = data.copy() can be used if we want to retain a copy of the raw data\n",
    "for col_name, encoder in label_encoder_dict.items():\n",
    "    data[col_name] = encoder.transform(data[col_name])"
   ]
  },
  {
   "cell_type": "markdown",
   "metadata": {},
   "source": [
    "#### Review label encodings\n",
    "Here we can take a look at the categories of data which appear in each column. These should be the same as the categories which appeared in the value counts cell above, but instead of ordering by frequency, here the displayed order corresponds to the way the categories have been encoded as integers.<br/>\n",
    "For example, the first class which appears in the list will be encoded by the number 0, the second class in the list will be encoded as 1, and so on..."
   ]
  },
  {
   "cell_type": "code",
   "execution_count": 8,
   "metadata": {},
   "outputs": [
    {
     "data": {
      "application/vnd.jupyter.widget-view+json": {
       "model_id": "f9d9b67e3e174c21a14c88febe948264",
       "version_major": 2,
       "version_minor": 0
      },
      "text/plain": [
       "A Jupyter Widget"
      ]
     },
     "metadata": {},
     "output_type": "display_data"
    }
   ],
   "source": [
    "def display_label_encodings(feature='SITE_ICD10_O2'):\n",
    "    r'''Returns the list of classes that were encoded for a given feature column, in order'''\n",
    "    return label_encoder_dict[feature].classes_\n",
    "\n",
    "interact(display_label_encodings, feature=label_encoder_dict.keys());"
   ]
  },
  {
   "cell_type": "markdown",
   "metadata": {},
   "source": [
    "We create a dictionary for how missing values 'NaN' have been encoded in each column, if present.<br/>\n",
    "If a column does not have any missing values, then we match the column with the string 'NaN'."
   ]
  },
  {
   "cell_type": "code",
   "execution_count": 9,
   "metadata": {},
   "outputs": [],
   "source": [
    "NaN_encoding_dict = dict()\n",
    "for key, encoder in label_encoder_dict.items():\n",
    "    try:\n",
    "        NaN_encoding_dict[key] = encoder.transform(['NaN'])[0]\n",
    "    except:\n",
    "        NaN_encoding_dict[key] = 'NaN'\n",
    "#print(pd.Series(NaN_encoding_dict))"
   ]
  },
  {
   "cell_type": "markdown",
   "metadata": {},
   "source": [
    "## Compute the $\\chi^2$ test statistics between pairs of characteristics\n",
    "The mathematical formula for computing $\\chi^2$ test-statistics is described [here](https://en.wikipedia.org/wiki/Pearson%27s_chi-squared_test#Testing_for_statistical_independence).<br/>"
   ]
  },
  {
   "cell_type": "markdown",
   "metadata": {},
   "source": [
    "### Discussion on handling missing values\n",
    "How do you deal with missing values when computing chi-squared values between pairs of characteristics and why?\n",
    "Do you:\n",
    "1. Treat missing values as a separate category and compute the test statistic between the pair of characteristics over all records (with a given ICD10 site code);\n",
    "2. Treat missing values as a separate category, but ignore records containing missing values for both characteristics (outer join of columns with missing values removed);\n",
    "3. Ignore records containing missing values in either characteristic (inner join of columns with missing values removed);\n",
    "4. Fill missing values, etc.\n",
    "\n",
    "Retaining missing values might inflate test statistics between (relatively) independent characteristics whose missing values are highly correlated (e.g. due to data collection practices), whereas removing records with missing values may distort the results, especially when the remaining data is quite small. Option 2 is a combination of options 1 and 3 and inherits the disadvantages of both.\n",
    "\n",
    "In general, how one deals with missing data requires an understanding of its nature - how was the data collected, what do the missing values represent?\n",
    "- Was the data off the scale of usual measurements (too small or large to register on measuring equipment)?\n",
    "- Were measurements not taken due to faulty or unavailable equipment, or lost due to data corruption or mismanagement?\n",
    "- Etc.\n",
    "\n",
    "When considering the data at hand, we will choose option 1, remaining aware of the caveats mentioned above.\n",
    "\"Some organisations, for instance, have consistently low data quality between some fields and some have high. However missing data in fields (e.g. screening status or tumour staging) is informative (screening was not involved).\""
   ]
  },
  {
   "cell_type": "markdown",
   "metadata": {},
   "source": [
    "The function below computes $\\chi^2$ test statistics between a given characteristic and all the others, taking missing values as a separate category.\n",
    "\n",
    "TODO:\n",
    "- Compare implementation of $\\chi^2$ in scikit-learn with `scipy` and R. Either the current input should be modified to use class frequencies rather than the raw data (e.g. with a method such a `value_counts()`, or the date-based characteristics `DIAGNOSISDATEBEST` and `DATE_FIRST_SURGERY` return unexpectedly high test statistics compared to the methodology document."
   ]
  },
  {
   "cell_type": "code",
   "execution_count": 10,
   "metadata": {},
   "outputs": [
    {
     "data": {
      "application/vnd.jupyter.widget-view+json": {
       "model_id": "d33b47348a56453a9bde8b9f8910b2ef",
       "version_major": 2,
       "version_minor": 0
      },
      "text/plain": [
       "A Jupyter Widget"
      ]
     },
     "metadata": {},
     "output_type": "display_data"
    }
   ],
   "source": [
    "from sklearn.feature_selection import chi2\n",
    "\n",
    "def compute_chi2_values(column='SITE_ICD10_O2'):\n",
    "    r'''Returns a dataframe containing chi2 test statistics between the input column and the rest sorted in descending order,\n",
    "    along with the associated p-values for each test statistic in a second column'''\n",
    "    results = chi2(data[comparison_cols], data[column])\n",
    "    return pd.DataFrame({'chi2': results[0], 'p_val': results[1]}, index=comparison_cols).sort_values('chi2', ascending=False)\n",
    "\n",
    "interact_manual(compute_chi2_values, column=comparison_cols);"
   ]
  },
  {
   "cell_type": "markdown",
   "metadata": {},
   "source": [
    "#### Alternative treatment of missing data\n",
    "If we choose option 3 we must first select the appropriate rows in the data before computing the test statistic. The code below performs the selection. We can also use SQL to select the relevant data from the database directly, and the corresponding SQL command for this can be found below (soon)."
   ]
  },
  {
   "cell_type": "code",
   "execution_count": null,
   "metadata": {},
   "outputs": [],
   "source": [
    "def clean_col(column):\n",
    "    r'''Returns a column from a dataframe after dropping encoded missing values'''\n",
    "    return data.loc[~data[column].isin([NaN_encoding_dict[column]]), column]\n",
    "\n",
    "def clean_inner_join(column1='CANCERCAREPLANINTENT', column2='ACE27', verbose=False):\n",
    "    r'''Returns a pair of columns from a dataframe after dropping rows with any encoded missing values'''\n",
    "    clean_col1 = clean_col(column1)\n",
    "    clean_col2 = clean_col(column2)\n",
    "    combined = pd.concat([clean_col1, clean_col2], axis=1, join='inner')\n",
    "    if verbose:\n",
    "        print('Column | preclean size | cleaned size\\n{} | {} | {}\\n{} | {} | {}'.format(\n",
    "            column1, data[column1].size, clean_col1.size, column2, data[column2].size, clean_col2.size))\n",
    "        print('The joined data has shape', combined.shape)\n",
    "    return combined\n",
    "\n",
    "interact(clean_inner_join, column1=comparison_cols, column2=comparison_cols, verbose=False);"
   ]
  },
  {
   "cell_type": "markdown",
   "metadata": {},
   "source": [
    "The function below computes a pair of a $\\chi^2$ test-statistic and the associated p-value for a given pair of columns/characteristics after dropping any records with missing values for the given characteristics."
   ]
  },
  {
   "cell_type": "code",
   "execution_count": null,
   "metadata": {},
   "outputs": [],
   "source": [
    "from sklearn.feature_selection import chi2\n",
    "\n",
    "def compute_chi2_value(column1='SITE_ICD10_O2', column2='CREG_CODE'):\n",
    "    r'''Returns the chi2 test statistic and associated p-value between the given pair of columns from the dataset\n",
    "    where we ignore any records in those columns containing missing values'''\n",
    "    combined = clean_inner_join(column1, column2, verbose=True)\n",
    "    return chi2(combined[column1].values.reshape(-1, 1), combined[column2])\n",
    "\n",
    "interact(compute_chi2_value, column1=comparison_cols, column2=comparison_cols);"
   ]
  },
  {
   "cell_type": "markdown",
   "metadata": {},
   "source": [
    "## Determine the graph structure\n",
    "For each characteristic, we identify its two highest $\\chi^2$ statistics and selected the corresponding pairs, provided the test-statistic is above a given threshold."
   ]
  },
  {
   "cell_type": "code",
   "execution_count": null,
   "metadata": {},
   "outputs": [],
   "source": []
  },
  {
   "cell_type": "markdown",
   "metadata": {},
   "source": [
    "## Impose a DAG structure on the graph\n",
    "\"We then introduced directions for the edges. Each edge is directed so that it points from a node with\n",
    "a larger number of edges to a node with fewer edges. The result is a directed acyclic graph, i.e. a\n",
    "directional graph where no path starting from a node can lead back that same node.\""
   ]
  },
  {
   "cell_type": "code",
   "execution_count": null,
   "metadata": {},
   "outputs": [],
   "source": []
  },
  {
   "cell_type": "markdown",
   "metadata": {},
   "source": [
    "## Fit our Bayesian Network to the data\n",
    "- Calculate conditional probability distributions based on the data.\n",
    "- Apply hierarchical clustering algorithm to aggregate small groups of records."
   ]
  },
  {
   "cell_type": "code",
   "execution_count": null,
   "metadata": {},
   "outputs": [],
   "source": []
  },
  {
   "cell_type": "markdown",
   "metadata": {},
   "source": [
    "## Generate synthetic data using the Bayesian Network model"
   ]
  },
  {
   "cell_type": "code",
   "execution_count": null,
   "metadata": {},
   "outputs": [],
   "source": []
  },
  {
   "cell_type": "markdown",
   "metadata": {},
   "source": [
    "## Rinse, lather, repeat for each cancer site, each data table"
   ]
  },
  {
   "cell_type": "code",
   "execution_count": null,
   "metadata": {},
   "outputs": [],
   "source": []
  }
 ],
 "metadata": {
  "kernelspec": {
   "display_name": "Python 3",
   "language": "python",
   "name": "python3"
  },
  "language_info": {
   "codemirror_mode": {
    "name": "ipython",
    "version": 3
   },
   "file_extension": ".py",
   "mimetype": "text/x-python",
   "name": "python",
   "nbconvert_exporter": "python",
   "pygments_lexer": "ipython3",
   "version": "3.6.7"
  },
  "toc": {
   "base_numbering": 1,
   "nav_menu": {},
   "number_sections": true,
   "sideBar": true,
   "skip_h1_title": false,
   "title_cell": "Table of Contents",
   "title_sidebar": "Contents",
   "toc_cell": false,
   "toc_position": {},
   "toc_section_display": true,
   "toc_window_display": true
  },
  "varInspector": {
   "cols": {
    "lenName": 16,
    "lenType": 16,
    "lenVar": 40
   },
   "kernels_config": {
    "python": {
     "delete_cmd_postfix": "",
     "delete_cmd_prefix": "del ",
     "library": "var_list.py",
     "varRefreshCmd": "print(var_dic_list())"
    },
    "r": {
     "delete_cmd_postfix": ") ",
     "delete_cmd_prefix": "rm(",
     "library": "var_list.r",
     "varRefreshCmd": "cat(var_dic_list()) "
    }
   },
   "types_to_exclude": [
    "module",
    "function",
    "builtin_function_or_method",
    "instance",
    "_Feature"
   ],
   "window_display": false
  }
 },
 "nbformat": 4,
 "nbformat_minor": 2
}
